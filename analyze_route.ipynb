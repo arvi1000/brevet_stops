{
 "cells": [
  {
   "cell_type": "code",
   "execution_count": 1,
   "metadata": {},
   "outputs": [],
   "source": [
    "import pandas as pd"
   ]
  },
  {
   "cell_type": "code",
   "execution_count": 2,
   "metadata": {},
   "outputs": [],
   "source": [
    "clubs = pd.read_csv('data/clubs.csv')\n",
    "routes = pd.read_csv('data/routes.csv')\n",
    "events = pd.read_csv('data/events.csv')\n",
    "event_results = pd.read_csv('data/event_results.csv')\n",
    "event_details = pd.read_csv('data/event_details.csv')\n",
    "riders = pd.read_csv('data/riders.csv')"
   ]
  },
  {
   "cell_type": "code",
   "execution_count": 3,
   "metadata": {},
   "outputs": [],
   "source": [
    "event_db = event_results.merge(\\\n",
    "    events, on='eid', how='left').merge(\\\n",
    "    event_details, on='eid', how='left').merge(\\\n",
    "    routes, on='rtid', how='left').merge(\\\n",
    "    clubs, left_on='host_acp_code', right_on='acp_code', how='left')"
   ]
  },
  {
   "cell_type": "code",
   "execution_count": 4,
   "metadata": {},
   "outputs": [
    {
     "data": {
      "text/html": [
       "<div>\n",
       "<style scoped>\n",
       "    .dataframe tbody tr th:only-of-type {\n",
       "        vertical-align: middle;\n",
       "    }\n",
       "\n",
       "    .dataframe tbody tr th {\n",
       "        vertical-align: top;\n",
       "    }\n",
       "\n",
       "    .dataframe thead th {\n",
       "        text-align: right;\n",
       "    }\n",
       "</style>\n",
       "<table border=\"1\" class=\"dataframe\">\n",
       "  <thead>\n",
       "    <tr style=\"text-align: right;\">\n",
       "      <th></th>\n",
       "      <th>rtid</th>\n",
       "      <th>route</th>\n",
       "      <th>distance</th>\n",
       "    </tr>\n",
       "  </thead>\n",
       "  <tbody>\n",
       "    <tr>\n",
       "      <th>68</th>\n",
       "      <td>214.0</td>\n",
       "      <td>Healdsburg 300</td>\n",
       "      <td>300.0</td>\n",
       "    </tr>\n",
       "  </tbody>\n",
       "</table>\n",
       "</div>"
      ],
      "text/plain": [
       "     rtid           route  distance\n",
       "68  214.0  Healdsburg 300     300.0"
      ]
     },
     "execution_count": 4,
     "metadata": {},
     "output_type": "execute_result"
    }
   ],
   "source": [
    "routes[routes.route.str.contains('Healdsburg', regex=False)]"
   ]
  },
  {
   "cell_type": "code",
   "execution_count": 61,
   "metadata": {},
   "outputs": [],
   "source": [
    "TARGET_RTID = 214"
   ]
  },
  {
   "cell_type": "code",
   "execution_count": 103,
   "metadata": {},
   "outputs": [],
   "source": [
    "this_event_hist = events.loc[events.rtid==TARGET_RTID].sort_values('date')\n",
    "this_route = routes.loc[routes.rtid == TARGET_RTID]\n"
   ]
  },
  {
   "attachments": {},
   "cell_type": "markdown",
   "metadata": {},
   "source": [
    "### Basic Facts"
   ]
  },
  {
   "cell_type": "code",
   "execution_count": 108,
   "metadata": {},
   "outputs": [
    {
     "name": "stdout",
     "output_type": "stream",
     "text": [
      "The Healdsburg 300 route is a 300.0 km ride\n",
      "This dataset has record of it being held 15 times, first on 2009/02/21 and most recently on 2022/09/24\n"
     ]
    }
   ],
   "source": [
    "# BASIC FACTS\n",
    "print(f'The {this_route.route.values[0]} route is a {this_route.distance.values[0]} km ride')\n",
    "print(f'This dataset has record of it being held {this_event_hist.shape[0]} times, ' +\\\n",
    "      f'first on {this_event_hist.date.head(1).values[0]} and most recently on '+\\\n",
    "        f'{this_event_hist.date.tail(1).values[0]}')"
   ]
  },
  {
   "attachments": {},
   "cell_type": "markdown",
   "metadata": {},
   "source": [
    "### How hard is this route?\n",
    "### You on this route\n",
    "### Compare to another route"
   ]
  },
  {
   "cell_type": "code",
   "execution_count": null,
   "metadata": {},
   "outputs": [],
   "source": []
  }
 ],
 "metadata": {
  "kernelspec": {
   "display_name": "venv",
   "language": "python",
   "name": "python3"
  },
  "language_info": {
   "codemirror_mode": {
    "name": "ipython",
    "version": 3
   },
   "file_extension": ".py",
   "mimetype": "text/x-python",
   "name": "python",
   "nbconvert_exporter": "python",
   "pygments_lexer": "ipython3",
   "version": "3.10.0"
  },
  "orig_nbformat": 4,
  "vscode": {
   "interpreter": {
    "hash": "0684acd5e8a71fd6a28d5601d47e7f1600fb919196af4cc35e153c7d09d42865"
   }
  }
 },
 "nbformat": 4,
 "nbformat_minor": 2
}
