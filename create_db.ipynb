{
 "cells": [
  {
   "cell_type": "code",
   "execution_count": 1,
   "metadata": {},
   "outputs": [],
   "source": [
    "import pandas as pd\n",
    "import sqlite3\n",
    "import glob\n",
    "import os"
   ]
  },
  {
   "cell_type": "code",
   "execution_count": 3,
   "metadata": {},
   "outputs": [
    {
     "name": "stdout",
     "output_type": "stream",
     "text": [
      "['riders', 'event_details', 'events', 'event_results', 'clubs']\n"
     ]
    }
   ],
   "source": [
    "# files to load\n",
    "csv_fls = glob.glob('data/*.csv')\n",
    "\n",
    "# load data to list\n",
    "dats = [pd.read_csv(fl) for fl in csv_fls]\n",
    "\n",
    "# eventual table names from file names\n",
    "def get_fl_prefix(x):\n",
    "    base = os.path.basename(x)\n",
    "    return os.path.splitext(base)[0]\n",
    "table_names = [get_fl_prefix(x) for x in csv_fls]\n",
    "print(table_names)"
   ]
  },
  {
   "cell_type": "code",
   "execution_count": 4,
   "metadata": {},
   "outputs": [
    {
     "name": "stdout",
     "output_type": "stream",
     "text": [
      "Inserting table: riders\n",
      "Inserting table: event_details\n",
      "Inserting table: events\n",
      "Inserting table: event_results\n",
      "Inserting table: clubs\n"
     ]
    }
   ],
   "source": [
    "# insert to local db\n",
    "con = sqlite3.connect('rusa.db')\n",
    "for i, d in enumerate(dats):\n",
    "    this_tab = table_names[i]\n",
    "    print(f'Inserting table: {this_tab}')\n",
    "    d.to_sql(this_tab, con, if_exists='replace', index=False)    \n",
    "    "
   ]
  },
  {
   "cell_type": "code",
   "execution_count": null,
   "metadata": {},
   "outputs": [],
   "source": []
  }
 ],
 "metadata": {
  "kernelspec": {
   "display_name": "venv",
   "language": "python",
   "name": "python3"
  },
  "language_info": {
   "codemirror_mode": {
    "name": "ipython",
    "version": 3
   },
   "file_extension": ".py",
   "mimetype": "text/x-python",
   "name": "python",
   "nbconvert_exporter": "python",
   "pygments_lexer": "ipython3",
   "version": "3.10.0"
  },
  "orig_nbformat": 4,
  "vscode": {
   "interpreter": {
    "hash": "0684acd5e8a71fd6a28d5601d47e7f1600fb919196af4cc35e153c7d09d42865"
   }
  }
 },
 "nbformat": 4,
 "nbformat_minor": 2
}
